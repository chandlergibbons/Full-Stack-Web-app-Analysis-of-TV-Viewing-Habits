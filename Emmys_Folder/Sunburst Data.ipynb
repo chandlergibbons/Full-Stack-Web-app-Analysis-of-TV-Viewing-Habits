{
 "cells": [
  {
   "cell_type": "markdown",
   "metadata": {},
   "source": [
    "# Sunburst DataFrame Creation"
   ]
  },
  {
   "cell_type": "code",
   "execution_count": 3,
   "metadata": {},
   "outputs": [],
   "source": [
    "import pandas as pd\n",
    "import numpy as np\n",
    "# Remove dataFrame display size restrictions\n",
    "pd.set_option(\"display.max_rows\", None, \"display.max_columns\", None)\n"
   ]
  },
  {
   "cell_type": "code",
   "execution_count": 4,
   "metadata": {},
   "outputs": [
    {
     "name": "stdout",
     "output_type": "stream",
     "text": [
      "Pretty printing has been turned OFF\n"
     ]
    }
   ],
   "source": [
    "%pprint\n",
    "path = (\"Resources/combined_scores.csv\")\n",
    "df = pd.read_csv(path)"
   ]
  },
  {
   "cell_type": "markdown",
   "metadata": {},
   "source": [
    "# ID Column"
   ]
  },
  {
   "cell_type": "code",
   "execution_count": 7,
   "metadata": {},
   "outputs": [],
   "source": [
    "# Create Layer 1 ID\n",
    "df['id'] = df['channel']\n",
    "df = df.assign(id = 'channel-'+ df.id )\n",
    "df['id'] = df['id'].str.lower()\n",
    "df['channel'] = df['channel'].str.lower()\n"
   ]
  },
  {
   "cell_type": "code",
   "execution_count": 8,
   "metadata": {},
   "outputs": [],
   "source": [
    "unique_channels = list(df.channel.unique())"
   ]
  },
  {
   "cell_type": "code",
   "execution_count": 9,
   "metadata": {},
   "outputs": [],
   "source": [
    "channel_id_list = []\n",
    "\n",
    "for x in unique_channels:\n",
    "    channel_id_list.append('channel-' + x.replace(' ', '')) "
   ]
  },
  {
   "cell_type": "code",
   "execution_count": 10,
   "metadata": {},
   "outputs": [
    {
     "data": {
      "text/plain": [
       "['channel-hbo', 'channel-amazonstudios', 'channel-nbc', 'channel-hulu', 'channel-netflix', 'channel-fx', 'channel-abc', 'channel-bbc', 'channel-poptv', 'channel-showtime', 'channel-tbs', 'channel-amc', 'channel-cbs', 'channel-fleabag', 'channel-appletv', 'channel-comedycentral', 'channel-bravo', 'channel-pbs', 'channel-vh1', 'channel-usa', 'channel-lifetime', 'channel-nationalgeographic', 'channel-ifc', 'channel-fox', 'channel-trutv', 'channel-paramountnetwork', 'channel-tnt', 'channel-disney+', 'channel-a&e', 'channel-cinemax']"
      ]
     },
     "execution_count": 10,
     "metadata": {},
     "output_type": "execute_result"
    }
   ],
   "source": [
    "channel_id_list"
   ]
  },
  {
   "cell_type": "code",
   "execution_count": 12,
   "metadata": {},
   "outputs": [
    {
     "data": {
      "text/plain": [
       "<class 'pandas.core.series.Series'>"
      ]
     },
     "execution_count": 12,
     "metadata": {},
     "output_type": "execute_result"
    }
   ],
   "source": [
    "# Create Layer 2 ID\n",
    "channel_title = df[\"channel\"] + \"-\" + df[\"title\"]\n",
    "channel_title = channel_title.replace(' ', '', regex=True)\n",
    "type(channel_title)"
   ]
  },
  {
   "cell_type": "code",
   "execution_count": 13,
   "metadata": {},
   "outputs": [
    {
     "data": {
      "text/plain": [
       "['hbo-gameofthrones', 'hbo-veep', 'amazonstudios-themarvelousmrsmaisel', 'nbc-saturdaynightlive', 'hulu-handmaidstale', 'netflix-bettercallsaul', 'netflix-ozark', 'netflix-thecrown', 'hbo-barry', 'fx-fargo', 'hbo-westworld', 'abc-thisisus', 'fx-thepeoplev.o.j.simpson:americancrimestory', 'hbo-succession', 'fx-atlanta', 'hbo-siliconvalley', 'abc-black-ish', 'bbc-killingeve', 'poptv-schitt’screek', 'netflix-strangerthings', 'netflix-whentheyseeus', 'hbo-watchmen', 'fx-theamericans', 'netflix-houseofcards', 'fx-feud:betteandjoan', 'hbo-biglittlelies', 'nbc-thegoodplace', 'netflix-unbreakablekimmyschmidt', 'fx-theassassinationofgianniversace:american...', 'amazonstudios-transparent', 'hbo-thenightof', 'netflix-masterofnone', 'fx-fosse/verdon', 'showtime-homeland', 'hbo-lastweektonightwithjohnoliver', 'showtime-escapeatdannemora', 'hbo-chernobyl', 'netflix-godless', 'tbs-fullfrontalwithsamanthabee', 'amc-thenightmanager', 'abc-americancrime', 'netflix-blackmirror', 'cbs-thelateshowwithstephencolbert', 'fx-mrs.america', 'fleabag-fleabag', 'abc-jimmykimmellive!', 'appletv-themorningshow', 'comedycentral-drunkhistory', 'netflix-glow', 'bravo-topchef', 'netflix-thekominskymethod', 'nbc-thevoice', 'abc-modernfamily', 'netflix-hollywood', 'cbs-theamazingrace', 'fx-baskets', 'pbs-sherlock', 'nbc-jesuschristsuperstarliveinconcert', 'fx-americanhorrorstory', 'hbo-alltheway', 'amazonstudios-averyenglishscandal', 'nbc-americanninjawarrior', 'cbs-deadtome', 'netflix-russiandoll', 'showtime-patrickmelrose', 'cbs-thelatelateshowwithjamescorden', 'pbs-downtonabbey', 'fx-whatwedointheshadows', 'showtime-raydonovan', 'netflix-graceandfrankie', 'netflix-unorthodox', 'vh1-rupaulsdragrace', 'hbo-insecure', 'cbs-unbelievable', 'usa-mr.robot', 'hulu-ramy', 'hbo-thewizardoflies', 'hbo-sharpobjects', 'hbo-curbyourenthusiasm', 'lifetime-projectrunway', 'nationalgeographic-genius', 'abc-howtogetawaywithmurder', 'hulu-littlefireseverywhere', 'cbs-mom', 'showtime-shameless', 'hulu-normalpeople', 'ifc-portlandia', 'fx-pose', 'hulu-theloomingtower', 'comedycentral-thedailyshowwithtrevornoah', 'showtime-blackmonday', 'nbc-will&grace', 'netflix-johnmulaneyspecial', 'hbo-amyschumer:liveattheapollo', 'cbs-thebigbangtheory', 'netflix-bloodline', 'fx-betterthings', 'netflix-bodyguard', 'fox-tracyullmanshow', 'comedycentral-insideamyschumer', 'hbo-confirmation', 'trutv-athomewithamysedaris', 'bbc-orphanblack', 'hulu-thegreat', 'ifc-documentarynow!', 'hbo-gettingon', 'netflix-nailedit!', 'showtime-twinpeaks', 'comedycentral-key&peele', 'nbc-brooklynnine-nine', 'lifetime-unreal', 'hbo-realtimewithbillmaher', 'bbc-luther', 'netflix-stevemartin&martinshort:aneveningyouwi...', 'hulu-theact', 'hbo-mydinnerwithhervé', 'cbs-thegoodwife', 'hulu-triumph’selectionspecial2016', 'hbo-michellewolf:nicelady', 'netflix-averymurraychristmas', 'hbo-thetale', 'netflix-sevenseconds', 'netflix-americanvandal', 'fox-themaskedsinger', 'hbo-iknowthismuchistrue', 'netflix-davechappelle:equanimity', 'abc-dancingwiththestars', 'netflix-selfmade', 'paramountnetwork-waco', 'amazonstudios-kinglear', 'fox-grease:live!', 'nbc-law&ordertruecrime:themenendezmurders', 'showtime-theaffair', 'abc-theoscars', 'hbo-deadwood:themovie', 'cbs-thekennedycenterhonors', 'hbo-euphoria', 'nbc-superbowlliihalftimeshowstarringjustint...', 'tnt-thealienist', 'fox-thelastmanonearth', 'showtime-whoisamerica?', 'hulu-loveyouamerica', 'abc-Roseanne', 'hbo-lemonade', 'netflix-orangeisthenewblack', 'hbo-tignotaro:boyishgirlinterrupted', 'netflix-pattonoswalt:talkingforclapping', 'hbo-theimmortallifeofhenriettalacks', 'nbc-thetonightshowstarringjimmyfallon', 'nbc-latenightwithsethmeyers', 'hbo-paterno', 'nbc-dollyparton’schristmasofmanycolors', 'nbc-adeleliveinnewyorkcity', 'amazonstudios-catastrophe', 'disney+-themandalorian', 'usa-thesinner', 'ifc-documentarynow', 'fox-empire', 'hbo-brexit', 'a&e-roots', 'netflix-comediansincarsgettingcoffee', 'hbo-truedetective', 'cbs-58thgrammyawards', 'hbo-ladydayatemerson’sbarandgrill', 'netflix-pattonoswalt:annihilation', 'trutv-billyonthestreet', 'hulu-iloveyouamericawithsarahsilverman', 'hbo-badeducation', 'hulu-pen15', 'cinemax-theknick', 'netflix-jerryseinfeld:jerrybeforeseinfeld']"
      ]
     },
     "execution_count": 13,
     "metadata": {},
     "output_type": "execute_result"
    }
   ],
   "source": [
    "channel_title = channel_title.tolist()\n",
    "channel_title\n",
    "#len(channel_title)"
   ]
  },
  {
   "cell_type": "code",
   "execution_count": 15,
   "metadata": {},
   "outputs": [
    {
     "data": {
      "text/plain": [
       "372"
      ]
     },
     "execution_count": 15,
     "metadata": {},
     "output_type": "execute_result"
    }
   ],
   "source": [
    "# Append to create id list\n",
    "for x in channel_title:\n",
    "  channel_id_list.append(x)\n",
    "\n",
    "len(channel_id_list)"
   ]
  },
  {
   "cell_type": "markdown",
   "metadata": {},
   "source": [
    "# Label Column"
   ]
  },
  {
   "cell_type": "code",
   "execution_count": null,
   "metadata": {},
   "outputs": [],
   "source": [
    "# Create layer 1 label column\n",
    "df['id'] = df['channel']\n",
    "label_layer = list(df['id'].unique()) \n",
    "label_layer\n",
    "#len(label_layer)"
   ]
  },
  {
   "cell_type": "code",
   "execution_count": null,
   "metadata": {},
   "outputs": [],
   "source": [
    "# Create layer 2 label column\n",
    "df['name'] = df['title']\n",
    "label_title = df['name'].tolist()\n",
    "label_title\n",
    "#len(label_title)"
   ]
  },
  {
   "cell_type": "code",
   "execution_count": null,
   "metadata": {},
   "outputs": [],
   "source": [
    "# Append to create id list\n",
    "for x in label_title:\n",
    "  label_layer.append(x)\n",
    "\n",
    "#len(label_layer)"
   ]
  },
  {
   "cell_type": "markdown",
   "metadata": {},
   "source": [
    "# Parents"
   ]
  },
  {
   "cell_type": "code",
   "execution_count": null,
   "metadata": {},
   "outputs": [],
   "source": [
    "# Create Layer 1 Parents - 171 np.nans\n",
    "an_array = np.empty((30))\n",
    "an_array[:] = np.NaN\n",
    "parents_layer = an_array.tolist()\n"
   ]
  },
  {
   "cell_type": "code",
   "execution_count": null,
   "metadata": {},
   "outputs": [],
   "source": [
    "# Create Layer 2 Parents\n",
    "df['parent'] = df['channel']\n",
    "#df = df.assign(parent = 'channel-'+ df.parent )\n",
    "parents = df['parent'].tolist()\n",
    "parents"
   ]
  },
  {
   "cell_type": "code",
   "execution_count": null,
   "metadata": {},
   "outputs": [],
   "source": [
    "# Append to create parents list\n",
    "for x in parents:\n",
    "  parents_layer.append(x)\n",
    "\n",
    "len(parents_layer)"
   ]
  },
  {
   "cell_type": "markdown",
   "metadata": {},
   "source": [
    "# VALUES"
   ]
  },
  {
   "cell_type": "code",
   "execution_count": null,
   "metadata": {},
   "outputs": [],
   "source": [
    "df['channel'].unique()"
   ]
  },
  {
   "cell_type": "code",
   "execution_count": null,
   "metadata": {},
   "outputs": [],
   "source": [
    "# Create layer 1 - total emmys by channel\n",
    "channels = ['hbo', 'amazon studios', 'nbc', 'hulu', 'netflix', 'fx', 'abc',\n",
    "       'bbc', 'pop tv', 'showtime', 'tbs', 'amc', 'cbs', 'fleabag',\n",
    "       'apple tv', 'comedy central', 'bravo', 'pbs', 'vh1', 'usa',\n",
    "       'lifetime', 'national geographic', 'ifc', 'fox', 'trutv',\n",
    "       'paramount network', 'tnt', 'disney+', 'a&e', 'cinemax']\n",
    "\n",
    "emmy_nominations = []\n",
    "\n",
    "# Filter each segment from our list 'region' in the dataframe\n",
    "for channel in channels:\n",
    "    loop = df.loc[df['channel'] == channel]\n",
    "    # Aggregate the consumption values for each region in the dataframe\n",
    "    values = loop['no'].sum()\n",
    "    emmy_nominations.append(values)\n",
    "\n",
    "channel_loop = pd.DataFrame({\"channel\": channels, \"emmy_nominations\": emmy_nominations})\n",
    "channel_loop.reset_index()\n",
    "\n",
    "values_layer = channel_loop['emmy_nominations'].tolist()\n",
    "values_layer\n",
    "#len(values_layer)\n",
    "channel_loop"
   ]
  },
  {
   "cell_type": "code",
   "execution_count": null,
   "metadata": {},
   "outputs": [],
   "source": [
    "# Create layer 2 - total emmys by title\n",
    "values_title = df['no'].tolist()\n",
    "len(values_title)\n"
   ]
  },
  {
   "cell_type": "code",
   "execution_count": null,
   "metadata": {},
   "outputs": [],
   "source": [
    "# Append to create values list\n",
    "for x in values_title:\n",
    "  values_layer.append(x)\n",
    "\n",
    "len(values_layer)"
   ]
  },
  {
   "cell_type": "markdown",
   "metadata": {},
   "source": [
    "# Append"
   ]
  },
  {
   "cell_type": "code",
   "execution_count": null,
   "metadata": {},
   "outputs": [],
   "source": [
    "my_df = pd.DataFrame(data=zip(channel_id_list, label_layer, parents_layer, values_layer),columns=['id','label','parents', 'values'])"
   ]
  },
  {
   "cell_type": "code",
   "execution_count": null,
   "metadata": {},
   "outputs": [],
   "source": [
    "my_df.index.name = 'index'\n",
    "my_df"
   ]
  },
  {
   "cell_type": "code",
   "execution_count": null,
   "metadata": {},
   "outputs": [],
   "source": [
    "my_df.to_csv(\"Output/sunburst_data.csv\")"
   ]
  },
  {
   "cell_type": "code",
   "execution_count": null,
   "metadata": {},
   "outputs": [],
   "source": []
  },
  {
   "cell_type": "code",
   "execution_count": null,
   "metadata": {},
   "outputs": [],
   "source": []
  }
 ],
 "metadata": {
  "kernelspec": {
   "display_name": "Python 3",
   "language": "python",
   "name": "python3"
  }
 },
 "nbformat": 4,
 "nbformat_minor": 4
}
