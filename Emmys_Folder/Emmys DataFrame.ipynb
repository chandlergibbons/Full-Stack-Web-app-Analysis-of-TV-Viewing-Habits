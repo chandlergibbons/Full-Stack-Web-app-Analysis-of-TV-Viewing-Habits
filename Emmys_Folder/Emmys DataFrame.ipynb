{
 "cells": [
  {
   "cell_type": "code",
   "execution_count": 27,
   "metadata": {},
   "outputs": [],
   "source": [
    "# Import dependencies\n",
    "import pandas as pd\n",
    "\n",
    "# Remove dataFrame display size restrictions\n",
    "pd.set_option(\"display.max_rows\", None, \"display.max_columns\", None)"
   ]
  },
  {
   "cell_type": "code",
   "execution_count": 28,
   "metadata": {},
   "outputs": [],
   "source": [
    "# Create path for files\n",
    "file_16 = \"ws_output/2016_emmys.csv\"\n",
    "file_17 = \"ws_output/2017_emmys.csv\"\n",
    "file_18 = \"ws_output/2018_emmys.csv\"\n",
    "file_19 = \"ws_output/2019_emmys.csv\"\n",
    "file_20 = \"ws_output/2020_emmys.csv\""
   ]
  },
  {
   "cell_type": "code",
   "execution_count": 29,
   "metadata": {},
   "outputs": [],
   "source": [
    "# Read csv files into DataFrame.\n",
    "df_16 = pd.read_csv(file_16, index_col=[0])\n",
    "df_17 = pd.read_csv(file_17, index_col=[0])\n",
    "df_18 = pd.read_csv(file_18, index_col=[0])\n",
    "df_19 = pd.read_csv(file_19, index_col=[0])\n",
    "df_20 = pd.read_csv(file_20, index_col=[0])"
   ]
  },
  {
   "cell_type": "code",
   "execution_count": 30,
   "metadata": {},
   "outputs": [],
   "source": [
    "# Create new DataFrame combining Emmys information from 2016-2020\n",
    "emmys_df = pd.concat([df_16, df_17, df_18, df_19, df_20])"
   ]
  },
  {
   "cell_type": "code",
   "execution_count": 32,
   "metadata": {},
   "outputs": [],
   "source": [
    "# Save to csv\n",
    "emmys_df.to_csv(\"ws_output/emmys_mega.csv\")"
   ]
  },
  {
   "cell_type": "code",
   "execution_count": null,
   "metadata": {},
   "outputs": [],
   "source": []
  }
 ],
 "metadata": {
  "kernelspec": {
   "display_name": "Python 3",
   "language": "python",
   "name": "python3"
  },
  "language_info": {
   "codemirror_mode": {
    "name": "ipython",
    "version": 3
   },
   "file_extension": ".py",
   "mimetype": "text/x-python",
   "name": "python",
   "nbconvert_exporter": "python",
   "pygments_lexer": "ipython3",
   "version": "3.8.5"
  }
 },
 "nbformat": 4,
 "nbformat_minor": 4
}
