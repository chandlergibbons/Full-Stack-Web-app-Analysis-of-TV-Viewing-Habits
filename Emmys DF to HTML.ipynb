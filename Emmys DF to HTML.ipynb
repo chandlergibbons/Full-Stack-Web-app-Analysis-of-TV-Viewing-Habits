{
 "cells": [
  {
   "cell_type": "code",
   "execution_count": 20,
   "metadata": {},
   "outputs": [],
   "source": [
    "# Import dependencies\n",
    "import pandas as pd\n",
    "\n",
    "# Remove dataFrame display size restrictions\n",
    "pd.set_option(\"display.max_rows\", None, \"display.max_columns\", None)"
   ]
  },
  {
   "cell_type": "code",
   "execution_count": 21,
   "metadata": {},
   "outputs": [],
   "source": [
    "# Create path for files\n",
    "file_16 = \"ws_output/2016_emmys.csv\"\n",
    "file_17 = \"ws_output/2017_emmys.csv\"\n",
    "file_18 = \"ws_output/2018_emmys.csv\"\n",
    "file_19 = \"ws_output/2019_emmys.csv\"\n",
    "file_20 = \"ws_output/2020_emmys.csv\""
   ]
  },
  {
   "cell_type": "code",
   "execution_count": 22,
   "metadata": {},
   "outputs": [],
   "source": [
    "# Read csv files into DataFrame.\n",
    "df_16 = pd.read_csv(file_16, index_col=[0])\n",
    "df_17 = pd.read_csv(file_17, index_col=[0])\n",
    "df_18 = pd.read_csv(file_18, index_col=[0])\n",
    "df_19 = pd.read_csv(file_19, index_col=[0])\n",
    "df_20 = pd.read_csv(file_20, index_col=[0])"
   ]
  },
  {
   "cell_type": "code",
   "execution_count": 23,
   "metadata": {},
   "outputs": [],
   "source": [
    "# Create new DataFrame combining Emmys information from 2016-2020\n",
    "emmys_df = pd.concat([df_16, df_17, df_18, df_19, df_20])"
   ]
  },
  {
   "cell_type": "code",
   "execution_count": 29,
   "metadata": {},
   "outputs": [
    {
     "data": {
      "text/plain": [
       "Comedy Series                                               37\n",
       "Drama Series                                                37\n",
       "Supporting Actress, Comedy                                  36\n",
       "Directing for a Drama                                       35\n",
       "Supporting Actor, Comedy                                    34\n",
       "Supporting Actor, Drama                                     34\n",
       "Supporting Actress, Drama                                   33\n",
       "Lead Actress, Comedy                                        31\n",
       "Supporting Actor, TV Movie/Limited Series                   31\n",
       "Lead Actress, Drama                                         31\n",
       "Directing for a TV Movie/Limited Series                     31\n",
       "Lead Actor, Drama                                           31\n",
       "Writing for a Drama Series                                  31\n",
       "Writing for a Comedy Series                                 31\n",
       "Supporting Actress, TV Movie/Limited Series                 30\n",
       "Lead Actor, Comedy                                          30\n",
       "Lead Actor, TV Movie/Limited Series                         29\n",
       "Variety Talk Series                                         29\n",
       "Lead Actress, TV Movie/Limited Series                       29\n",
       "Directing for a Comedy                                      27\n",
       "Limited Series                                              25\n",
       "Writing for a TV Movie/Limited Series                       23\n",
       "Variety Sketch Series                                       18\n",
       "Reality Competition Series                                  17\n",
       "Directing for a Variety Special                             16\n",
       "Writing for a Variety Special                               15\n",
       "TV Movie                                                    15\n",
       "Reality Competition Program                                 12\n",
       "Variety Sketch                                               6\n",
       "Writing for a limited series, movie, or dramatic special     6\n",
       "Directing for a Comedy Series                                5\n",
       "Name: Awards, dtype: int64"
      ]
     },
     "execution_count": 29,
     "metadata": {},
     "output_type": "execute_result"
    }
   ],
   "source": [
    "# Check value counts for each Award Category to Normalize Data\n",
    "emmys_df['Awards'].value_counts() "
   ]
  },
  {
   "cell_type": "code",
   "execution_count": 35,
   "metadata": {},
   "outputs": [],
   "source": [
    "# Writing for a limited series, movie, or dramatic special =-> Writing for a TV Movie/Limited Series \n",
    "emmys_df['Awards'] = emmys_df['Awards'].replace({\"Writing for a limited series, movie, or dramatic special\": \"Writing for a TV Movie/Limited Series\"})\n",
    "\n",
    "# Reality Competition Program = Reality Competition Series \n",
    "emmys_df['Awards'] = emmys_df['Awards'].replace({\"Reality Competition Program\": \"Reality Competition Series\"})\n",
    "\n",
    "# Directing for a Comedy - Directing for a Comedy Series\n",
    "emmys_df['Awards'] = emmys_df['Awards'].replace({\"Directing for a Comedy\": \"Directing for a Comedy Series\"})\n",
    "\n",
    "# Directing for a Comedy - Directing for a Comedy Series\n",
    "emmys_df['Awards'] = emmys_df['Awards'].replace({\"Variety Sketch\": \"Variety Sketch Series\"})\n"
   ]
  },
  {
   "cell_type": "code",
   "execution_count": 36,
   "metadata": {},
   "outputs": [
    {
     "data": {
      "text/plain": [
       "Drama Series                                   37\n",
       "Comedy Series                                  37\n",
       "Supporting Actress, Comedy                     36\n",
       "Directing for a Drama                          35\n",
       "Supporting Actor, Comedy                       34\n",
       "Supporting Actor, Drama                        34\n",
       "Supporting Actress, Drama                      33\n",
       "Directing for a Comedy Series                  32\n",
       "Supporting Actor, TV Movie/Limited Series      31\n",
       "Directing for a TV Movie/Limited Series        31\n",
       "Writing for a Comedy Series                    31\n",
       "Lead Actress, Drama                            31\n",
       "Lead Actress, Comedy                           31\n",
       "Writing for a Drama Series                     31\n",
       "Lead Actor, Drama                              31\n",
       "Supporting Actress, TV Movie/Limited Series    30\n",
       "Lead Actor, Comedy                             30\n",
       "Variety Talk Series                            29\n",
       "Reality Competition Series                     29\n",
       "Lead Actor, TV Movie/Limited Series            29\n",
       "Writing for a TV Movie/Limited Series          29\n",
       "Lead Actress, TV Movie/Limited Series          29\n",
       "Limited Series                                 25\n",
       "Variety Sketch Series                          24\n",
       "Directing for a Variety Special                16\n",
       "TV Movie                                       15\n",
       "Writing for a Variety Special                  15\n",
       "Name: Awards, dtype: int64"
      ]
     },
     "execution_count": 36,
     "metadata": {},
     "output_type": "execute_result"
    }
   ],
   "source": [
    "emmys_df['Awards'].value_counts() "
   ]
  },
  {
   "cell_type": "code",
   "execution_count": 37,
   "metadata": {},
   "outputs": [],
   "source": [
    "# Save to csv\n",
    "emmys_df.to_csv(\"ws_output/emmys_mega.csv\")"
   ]
  },
  {
   "cell_type": "code",
   "execution_count": 38,
   "metadata": {},
   "outputs": [],
   "source": [
    "df = pd.read_csv(\"ws_output/emmys_mega.csv\")\n",
    "df.to_html(\"data[e].html\", index=False)"
   ]
  },
  {
   "cell_type": "code",
   "execution_count": null,
   "metadata": {},
   "outputs": [],
   "source": []
  }
 ],
 "metadata": {
  "kernelspec": {
   "display_name": "Python 3",
   "language": "python",
   "name": "python3"
  },
  "language_info": {
   "codemirror_mode": {
    "name": "ipython",
    "version": 3
   },
   "file_extension": ".py",
   "mimetype": "text/x-python",
   "name": "python",
   "nbconvert_exporter": "python",
   "pygments_lexer": "ipython3",
   "version": "3.8.5"
  }
 },
 "nbformat": 4,
 "nbformat_minor": 4
}
