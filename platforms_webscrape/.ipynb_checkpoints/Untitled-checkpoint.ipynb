{
 "cells": [
  {
   "cell_type": "code",
   "execution_count": 1,
   "metadata": {},
   "outputs": [],
   "source": [
    "import pandas as pd"
   ]
  },
  {
   "cell_type": "code",
   "execution_count": 2,
   "metadata": {},
   "outputs": [],
   "source": [
    "df = pd.read_csv ('netflix_whole.csv')\n",
    "df2 = pd.read_csv ('prime_whole.csv')\n",
    "df3 = pd.read_csv ('hulu_whole.csv')\n",
    "df4 = pd.read_csv ('disney_whole.csv')"
   ]
  },
  {
   "cell_type": "code",
   "execution_count": 3,
   "metadata": {},
   "outputs": [],
   "source": [
    "df_list = df.values.tolist()\n",
    "df_list2 = df2.values.tolist()\n",
    "df_list3 = df3.values.tolist()\n",
    "df_list4 = df4.values.tolist()"
   ]
  },
  {
   "cell_type": "code",
   "execution_count": 4,
   "metadata": {},
   "outputs": [],
   "source": [
    "show_title = df_list[0]\n",
    "show_year = df_list[1]\n",
    "imdb_rating = df_list[2]\n",
    "real_rating = df_list[3]\n",
    "prime = df_list[4]\n",
    "netflix = df_list[5]\n",
    "disney = df_list[6]\n",
    "hulu = df_list[7]"
   ]
  },
  {
   "cell_type": "code",
   "execution_count": 5,
   "metadata": {},
   "outputs": [],
   "source": [
    "show_title_p = df_list2[0]\n",
    "show_year_p = df_list2[1]\n",
    "imdb_rating_p = df_list2[2]\n",
    "real_rating_p = df_list2[3]\n",
    "prime_p = df_list2[4]\n",
    "netflix_p = df_list2[5]\n",
    "disney_p = df_list2[6]\n",
    "hulu_p = df_list2[7]"
   ]
  },
  {
   "cell_type": "code",
   "execution_count": null,
   "metadata": {},
   "outputs": [],
   "source": [
    "show_title_h = df_list3[0]\n",
    "show_year_h = df_list3[1]\n",
    "imdb_rating_h = df_list3[2]\n",
    "real_rating_h = df_list3[3]\n",
    "prime_h = df_list3[4]\n",
    "netflix_h = df_list3[5]\n",
    "disney_h = df_list3[6]\n",
    "hulu_h = df_list3[7]"
   ]
  },
  {
   "cell_type": "code",
   "execution_count": null,
   "metadata": {},
   "outputs": [],
   "source": [
    "show_title_d = df_list4[0]\n",
    "show_year_d = df_list4[1]\n",
    "imdb_rating_d = df_list4[2]\n",
    "real_rating_d = df_list4[3]\n",
    "prime_d = df_list4[4]\n",
    "netflix_d = df_list4[5]\n",
    "disney_d = df_list4[6]\n",
    "hulu_d = df_list4[7]"
   ]
  },
  {
   "cell_type": "code",
   "execution_count": 8,
   "metadata": {},
   "outputs": [],
   "source": [
    "for i in range(len(show_title_p)):\n",
    "    if show_title_p[i] in show_title:\n",
    "        prime[i] = True\n",
    "    else:\n",
    "        show_title.append(show_title_p[i])\n",
    "        show_year.append(show_year_p[i])\n",
    "        imdb_rating.append(imdb_rating_p[i])\n",
    "        real_rating.append(real_rating_p[i])\n",
    "        prime.append(prime_p[i])\n",
    "        netflix.append(netflix_p[i])\n",
    "        disney.append(disney_p[i])\n",
    "        hulu.append(hulu_p[i])"
   ]
  },
  {
   "cell_type": "code",
   "execution_count": 11,
   "metadata": {},
   "outputs": [
    {
     "data": {
      "text/plain": [
       "'False'"
      ]
     },
     "execution_count": 11,
     "metadata": {},
     "output_type": "execute_result"
    }
   ],
   "source": [
    "for i in range(len(show_title_h)):\n",
    "    if show_title_h[i] in show_title:\n",
    "        prime[i] = True\n",
    "    else:\n",
    "        show_title.append(show_title_h[i])\n",
    "        show_year.append(show_year_h[i])\n",
    "        imdb_rating.append(imdb_rating_h[i])\n",
    "        real_rating.append(real_rating_h[i])\n",
    "        prime.append(prime_h[i])\n",
    "        netflix.append(netflix_h[i])\n",
    "        disney.append(disney_h[i])\n",
    "        hulu.append(hulu_h[i])"
   ]
  },
  {
   "cell_type": "code",
   "execution_count": 7,
   "metadata": {},
   "outputs": [
    {
     "data": {
      "text/plain": [
       "785"
      ]
     },
     "execution_count": 7,
     "metadata": {},
     "output_type": "execute_result"
    }
   ],
   "source": [
    "for i in range(len(show_title_d)):\n",
    "    if show_title_d[i] in show_title:\n",
    "        prime[i] = True\n",
    "    else:\n",
    "        show_title.append(show_title_d[i])\n",
    "        show_year.append(show_year_d[i])\n",
    "        imdb_rating.append(imdb_rating_d[i])\n",
    "        real_rating.append(real_rating_d[i])\n",
    "        prime.append(prime_d[i])\n",
    "        netflix.append(netflix_d[i])\n",
    "        disney.append(disney_d[i])\n",
    "        hulu.append(hulu_d[i])"
   ]
  },
  {
   "cell_type": "code",
   "execution_count": null,
   "metadata": {},
   "outputs": [],
   "source": []
  }
 ],
 "metadata": {
  "kernelspec": {
   "display_name": "Python 3",
   "language": "python",
   "name": "python3"
  },
  "language_info": {
   "codemirror_mode": {
    "name": "ipython",
    "version": 3
   },
   "file_extension": ".py",
   "mimetype": "text/x-python",
   "name": "python",
   "nbconvert_exporter": "python",
   "pygments_lexer": "ipython3",
   "version": "3.7.6"
  }
 },
 "nbformat": 4,
 "nbformat_minor": 4
}
