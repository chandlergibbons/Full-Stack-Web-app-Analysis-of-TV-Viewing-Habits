{
 "cells": [
  {
   "cell_type": "code",
   "execution_count": 1,
   "metadata": {},
   "outputs": [],
   "source": [
    "from bs4 import BeautifulSoup as bs\n",
    "import pandas as pd\n",
    "from splinter import Browser\n",
    "from webdriver_manager.chrome import ChromeDriverManager\n",
    "import requests\n",
    "import time\n",
    "import re"
   ]
  },
  {
   "cell_type": "code",
   "execution_count": 2,
   "metadata": {},
   "outputs": [
    {
     "name": "stderr",
     "output_type": "stream",
     "text": [
      "[WDM] - ====== WebDriver manager ======\n",
      "[WDM] - Current google-chrome version is 89.0.4389\n",
      "[WDM] - Get LATEST driver version for 89.0.4389\n"
     ]
    },
    {
     "name": "stdout",
     "output_type": "stream",
     "text": [
      "\n",
      "\n"
     ]
    },
    {
     "name": "stderr",
     "output_type": "stream",
     "text": [
      "[WDM] - Driver [/Users/Chibbbins/.wdm/drivers/chromedriver/mac64/89.0.4389.23/chromedriver] found in cache\n"
     ]
    }
   ],
   "source": [
    "url = 'https://www.justwatch.com/us/tv-show/the-mandalorian'\n",
    "executable_path = {'executable_path': ChromeDriverManager().install()}\n",
    "browser = Browser('chrome', **executable_path, headless=False)\n",
    "browser.visit(url)"
   ]
  },
  {
   "cell_type": "code",
   "execution_count": 3,
   "metadata": {},
   "outputs": [],
   "source": [
    "show_title = []\n",
    "show_year = []\n",
    "imdb_rating = []\n",
    "genres = []\n",
    "prime = []\n",
    "netflix = []\n",
    "disney = []\n",
    "hulu = []"
   ]
  },
  {
   "cell_type": "code",
   "execution_count": 4,
   "metadata": {},
   "outputs": [],
   "source": [
    "html = browser.html\n",
    "soup = bs(html, 'html.parser')\n",
    "\n",
    "#grabs title\n",
    "show_title.append(str(soup.find('h1')).split(' <sp')[0].split('<h1> ')[1])\n",
    "#grabs year\n",
    "show_year.append(str(soup.find('h1')).split(\"(\")[1].split(\")\")[0])\n",
    "#grabs imdb rating\n",
    "imdb_rating.append(str(soup.find_all(\"a\", {'href': re.compile(r'imdb')})[0]).split('/> ')[1].split(' <')[0])\n",
    "#grabs all genres\n",
    "line = str(soup.find_all('div', class_=\"detail-infos__detail--values\")[1])\n",
    "genres.append(re.findall('([A-Z][a-z]+)', line))\n",
    "#grabs platforms\n",
    "search_text = str(soup.find_all('p', class_='mt-0')[1])\n",
    "\n",
    "if \"Amazon\" in search_text:\n",
    "    prime.append(True)\n",
    "else:\n",
    "    prime.append(False)\n",
    "    \n",
    "if \"Netflix\" in search_text:\n",
    "    netflix.append(True)\n",
    "else:\n",
    "    netflix.append(False)\n",
    "    \n",
    "if \"Disney\" in search_text:\n",
    "    disney.append(True)\n",
    "else:\n",
    "    disney.append(False)\n",
    "    \n",
    "if \"Hulu\" in search_text:\n",
    "    hulu.append(True)\n",
    "else:\n",
    "    hulu.append(False)   "
   ]
  },
  {
   "cell_type": "code",
   "execution_count": 5,
   "metadata": {},
   "outputs": [
    {
     "name": "stdout",
     "output_type": "stream",
     "text": [
      "['The Mandalorian']\n",
      "['2019']\n",
      "['8.8']\n",
      "['Western', 'Science', 'Fiction', 'Action', 'Adventure', 'Fantasy']\n",
      "[False]\n",
      "[False]\n",
      "[True]\n",
      "[False]\n"
     ]
    }
   ],
   "source": [
    "print(show_title)\n",
    "print(show_year)\n",
    "print(imdb_rating)\n",
    "print(genres[0])\n",
    "print(prime)\n",
    "print(netflix) \n",
    "print(disney)\n",
    "print(hulu)\n",
    "\n"
   ]
  },
  {
   "cell_type": "code",
   "execution_count": null,
   "metadata": {},
   "outputs": [],
   "source": []
  }
 ],
 "metadata": {
  "kernelspec": {
   "display_name": "Python 3",
   "language": "python",
   "name": "python3"
  },
  "language_info": {
   "codemirror_mode": {
    "name": "ipython",
    "version": 3
   },
   "file_extension": ".py",
   "mimetype": "text/x-python",
   "name": "python",
   "nbconvert_exporter": "python",
   "pygments_lexer": "ipython3",
   "version": "3.7.6"
  }
 },
 "nbformat": 4,
 "nbformat_minor": 4
}
