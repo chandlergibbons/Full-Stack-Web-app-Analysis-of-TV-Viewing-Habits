{
 "cells": [
  {
   "cell_type": "code",
   "execution_count": 1,
   "metadata": {},
   "outputs": [],
   "source": [
    "from bs4 import BeautifulSoup as bs\n",
    "import pandas as pd\n",
    "from splinter import Browser\n",
    "from webdriver_manager.chrome import ChromeDriverManager\n",
    "import requests\n",
    "import time\n",
    "import re\n",
    "import time\n",
    "import random"
   ]
  },
  {
   "cell_type": "code",
   "execution_count": 2,
   "metadata": {},
   "outputs": [],
   "source": [
    "show_title_d = []\n",
    "show_year_d = []\n",
    "imdb_rating_d = []\n",
    "real_rating_d =[]\n",
    "prime_d = []\n",
    "netflix_d = []\n",
    "disney_d = []\n",
    "hulu_d = []"
   ]
  },
  {
   "cell_type": "code",
   "execution_count": 3,
   "metadata": {},
   "outputs": [
    {
     "name": "stderr",
     "output_type": "stream",
     "text": [
      "[WDM] - ====== WebDriver manager ======\n",
      "[WDM] - Current google-chrome version is 89.0.4389\n",
      "[WDM] - Get LATEST driver version for 89.0.4389\n"
     ]
    },
    {
     "name": "stdout",
     "output_type": "stream",
     "text": [
      "\n",
      "\n"
     ]
    },
    {
     "name": "stderr",
     "output_type": "stream",
     "text": [
      "[WDM] - Driver [/Users/Chibbbins/.wdm/drivers/chromedriver/mac64/89.0.4389.23/chromedriver] found in cache\n"
     ]
    }
   ],
   "source": [
    "url = 'https://reelgood.com/tv/source/disney_plus?filter-year_end=2021&filter-year_start=2016'\n",
    "executable_path = {'executable_path': ChromeDriverManager().install()}\n",
    "browser = Browser('chrome', **executable_path, headless=False)\n",
    "browser.visit(url)"
   ]
  },
  {
   "cell_type": "code",
   "execution_count": 4,
   "metadata": {},
   "outputs": [
    {
     "name": "stderr",
     "output_type": "stream",
     "text": [
      "/opt/anaconda3/lib/python3.7/site-packages/splinter/driver/webdriver/__init__.py:493: FutureWarning: browser.find_link_by_partial_text is deprecated. Use browser.links.find_by_partial_text instead.\n",
      "  FutureWarning,\n"
     ]
    },
    {
     "name": "stdout",
     "output_type": "stream",
     "text": [
      "ready to scrape\n"
     ]
    }
   ],
   "source": [
    "try:\n",
    "    while True:\n",
    "        time.sleep(float(\"{0:.2f}\".format(random.uniform(1, 3))))\n",
    "        browser.click_link_by_partial_text('Load More')\n",
    "except:\n",
    "    print(\"ready to scrape\")\n"
   ]
  },
  {
   "cell_type": "code",
   "execution_count": 5,
   "metadata": {},
   "outputs": [],
   "source": [
    "html = browser.html\n",
    "soup = bs(html, 'html.parser')\n",
    "\n",
    "title_col = (soup.find_all('td', class_='css-1u7zfla e126mwsw1'))\n",
    "\n",
    "e_else_col = (soup.find_all('td', class_='css-1u11l3y'))\n",
    "\n",
    "\n"
   ]
  },
  {
   "cell_type": "code",
   "execution_count": 6,
   "metadata": {},
   "outputs": [],
   "source": [
    "for i in range(len(e_else_col)):\n",
    "    if i % 4 == 0:\n",
    "        show_year_d.append(str(e_else_col[i]).split(\"</\")[0].split(\">\")[1])\n",
    "       "
   ]
  },
  {
   "cell_type": "code",
   "execution_count": 7,
   "metadata": {},
   "outputs": [],
   "source": [
    "for i in range(2, len(e_else_col)):\n",
    "    if (i + 2) % 4 == 0:\n",
    "        try:\n",
    "            imdb_rating_d.append(str(e_else_col[i]).split(\"</b\")[0].split(\">\")[5])\n",
    "        except:\n",
    "            imdb_rating_d.append(str(e_else_col[i]).split(\"</b\")[0].split(\">\")[3])"
   ]
  },
  {
   "cell_type": "code",
   "execution_count": 8,
   "metadata": {},
   "outputs": [],
   "source": [
    "for i in range(3, len(e_else_col)):\n",
    "        if (i + 1) % 4 == 0:\n",
    "            try:\n",
    "                real_rating_d.append(str(e_else_col[i]).split(\"</b\")[0].split(\">\")[5])\n",
    "            except:\n",
    "                real_rating_d.append(str(e_else_col[i]).split(\"</b\")[0].split(\">\")[3])\n",
    "    "
   ]
  },
  {
   "cell_type": "code",
   "execution_count": 9,
   "metadata": {},
   "outputs": [],
   "source": [
    "for i in range(len(title_col)):\n",
    "    show_title_d.append((str(title_col[i])).split(\"</\")[0].split(\"\\\">\")[2])"
   ]
  },
  {
   "cell_type": "code",
   "execution_count": 11,
   "metadata": {},
   "outputs": [],
   "source": [
    "for i in range(len(show_title_d)):\n",
    "    disney_d.append(True)"
   ]
  },
  {
   "cell_type": "code",
   "execution_count": 12,
   "metadata": {},
   "outputs": [],
   "source": [
    "for i in range(len(show_title_d)):\n",
    "    netflix_d.append(False)\n",
    "    prime_d.append(False)\n",
    "    hulu_d.append(False)\n",
    "    "
   ]
  },
  {
   "cell_type": "code",
   "execution_count": 13,
   "metadata": {},
   "outputs": [],
   "source": [
    "disney_whole = [show_title_d, show_year_d, imdb_rating_d, real_rating_d, prime_d, netflix_d, disney_d, hulu_d]"
   ]
  },
  {
   "cell_type": "code",
   "execution_count": 14,
   "metadata": {},
   "outputs": [],
   "source": [
    "browser.quit()"
   ]
  },
  {
   "cell_type": "code",
   "execution_count": 15,
   "metadata": {},
   "outputs": [],
   "source": [
    "df = pd.DataFrame(disney_whole)\n",
    "df.to_csv('disney_whole.csv', index=False)"
   ]
  },
  {
   "cell_type": "code",
   "execution_count": null,
   "metadata": {},
   "outputs": [],
   "source": []
  }
 ],
 "metadata": {
  "kernelspec": {
   "display_name": "Python 3",
   "language": "python",
   "name": "python3"
  },
  "language_info": {
   "codemirror_mode": {
    "name": "ipython",
    "version": 3
   },
   "file_extension": ".py",
   "mimetype": "text/x-python",
   "name": "python",
   "nbconvert_exporter": "python",
   "pygments_lexer": "ipython3",
   "version": "3.7.6"
  }
 },
 "nbformat": 4,
 "nbformat_minor": 4
}
