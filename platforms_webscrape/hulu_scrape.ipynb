{
 "cells": [
  {
   "cell_type": "code",
   "execution_count": null,
   "metadata": {},
   "outputs": [],
   "source": [
    "from bs4 import BeautifulSoup as bs\n",
    "import pandas as pd\n",
    "from splinter import Browser\n",
    "from webdriver_manager.chrome import ChromeDriverManager\n",
    "import requests\n",
    "import time\n",
    "import re\n",
    "import time\n",
    "import random"
   ]
  },
  {
   "cell_type": "code",
   "execution_count": null,
   "metadata": {},
   "outputs": [],
   "source": [
    "show_title_h = []\n",
    "show_year_h = []\n",
    "imdb_rating_h = []\n",
    "real_rating_h =[]\n",
    "prime_h = []\n",
    "netflix_h = []\n",
    "disney_h = []\n",
    "hulu_h = []"
   ]
  },
  {
   "cell_type": "code",
   "execution_count": null,
   "metadata": {},
   "outputs": [],
   "source": [
    "url3 = 'https://reelgood.com/tv/source/hulu?filter-year_end=2021&filter-year_start=2016'\n",
    "executable_path = {'executable_path': ChromeDriverManager().install()}\n",
    "browser3 = Browser('chrome', **executable_path, headless=False)\n",
    "browser3.visit(url3)"
   ]
  },
  {
   "cell_type": "code",
   "execution_count": null,
   "metadata": {},
   "outputs": [],
   "source": [
    "try:\n",
    "    while True:\n",
    "        time.sleep(float(\"{0:.2f}\".format(random.uniform(1, 3))))\n",
    "        browser3.click_link_by_partial_text('Load More')\n",
    "except:\n",
    "    print(\"ready to scrape\")\n"
   ]
  },
  {
   "cell_type": "code",
   "execution_count": null,
   "metadata": {},
   "outputs": [],
   "source": [
    "html3 = browser3.html\n",
    "soup = bs(html3, 'html.parser')\n",
    "\n",
    "title_col = (soup.find_all('td', class_='css-1u7zfla e126mwsw1'))\n",
    "\n",
    "e_else_col = (soup.find_all('td', class_='css-1u11l3y'))\n",
    "\n",
    "\n"
   ]
  },
  {
   "cell_type": "code",
   "execution_count": null,
   "metadata": {},
   "outputs": [],
   "source": [
    "for i in range(len(e_else_col)):\n",
    "    if i % 4 == 0:\n",
    "        show_year_h.append(str(e_else_col[i]).split(\"</\")[0].split(\">\")[1])\n",
    "       "
   ]
  },
  {
   "cell_type": "code",
   "execution_count": null,
   "metadata": {},
   "outputs": [],
   "source": [
    "for i in range(2, len(e_else_col)):\n",
    "    if (i + 2) % 4 == 0:\n",
    "        try:\n",
    "            imdb_rating_h.append(str(e_else_col[i]).split(\"</b\")[0].split(\">\")[5])\n",
    "        except:\n",
    "            imdb_rating_h.append(str(e_else_col[i]).split(\"</b\")[0].split(\">\")[3])\n",
    "        "
   ]
  },
  {
   "cell_type": "code",
   "execution_count": null,
   "metadata": {},
   "outputs": [],
   "source": [
    "for i in range(3, len(e_else_col)):\n",
    "        if (i + 1) % 4 == 0:\n",
    "            try:\n",
    "                real_rating_h.append(str(e_else_col[i]).split(\"</b\")[0].split(\">\")[5])\n",
    "            except:\n",
    "                real_rating_h.append(str(e_else_col[i]).split(\"</b\")[0].split(\">\")[3])\n",
    "    "
   ]
  },
  {
   "cell_type": "code",
   "execution_count": null,
   "metadata": {},
   "outputs": [],
   "source": [
    "for i in range(len(title_col)):\n",
    "    show_title_h.append((str(title_col[i])).split(\"</\")[0].split(\"\\\">\")[2])"
   ]
  },
  {
   "cell_type": "code",
   "execution_count": null,
   "metadata": {},
   "outputs": [],
   "source": [
    "for i in range(len(show_title_h)):\n",
    "    hulu_h.append(True)"
   ]
  },
  {
   "cell_type": "code",
   "execution_count": null,
   "metadata": {},
   "outputs": [],
   "source": [
    "for i in range(len(show_title_h)):\n",
    "    prime_h.append(False)\n",
    "    disney_h.append(False)\n",
    "    netflix_h.append(False)\n",
    "    "
   ]
  },
  {
   "cell_type": "code",
   "execution_count": null,
   "metadata": {},
   "outputs": [],
   "source": [
    "hulu_whole = [show_title_h, show_year_h, imdb_rating_h, real_rating_h, prime_h, netflix_h, disney_h, hulu_h]"
   ]
  },
  {
   "cell_type": "code",
   "execution_count": null,
   "metadata": {},
   "outputs": [],
   "source": [
    "browser3.quit()"
   ]
  },
  {
   "cell_type": "code",
   "execution_count": null,
   "metadata": {},
   "outputs": [],
   "source": [
    "df = pd.DataFrame(hulu_whole)\n",
    "df.to_csv('hulu_whole.csv', index=False)"
   ]
  }
 ],
 "metadata": {
  "kernelspec": {
   "display_name": "Python 3",
   "language": "python",
   "name": "python3"
  },
  "language_info": {
   "codemirror_mode": {
    "name": "ipython",
    "version": 3
   },
   "file_extension": ".py",
   "mimetype": "text/x-python",
   "name": "python",
   "nbconvert_exporter": "python",
   "pygments_lexer": "ipython3",
   "version": "3.7.6"
  }
 },
 "nbformat": 4,
 "nbformat_minor": 4
}
